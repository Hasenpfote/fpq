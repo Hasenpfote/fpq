{
 "cells": [
  {
   "cell_type": "code",
   "execution_count": 83,
   "metadata": {},
   "outputs": [],
   "source": [
    "import math\n",
    "import random\n",
    "import numpy as np\n",
    "import fpq.vector as fpq_vec\n",
    "import fpq.d3d as fpq_d3d"
   ]
  },
  {
   "cell_type": "code",
   "execution_count": 84,
   "metadata": {},
   "outputs": [],
   "source": [
    "def vec_random(norm=None):\n",
    "    phi = random.uniform(0., 2. * math.pi)\n",
    "    theta = math.acos(random.uniform(-1., 1.))\n",
    "\n",
    "    if norm is None:\n",
    "        _norm = 1.\n",
    "    else:\n",
    "        _norm = random.uniform(0., norm)\n",
    "        \n",
    "    return np.array([math.sin(theta) * math.cos(phi) * _norm,\n",
    "                     math.sin(theta) * math.sin(phi) * _norm,\n",
    "                     math.cos(theta) * _norm])"
   ]
  },
  {
   "cell_type": "markdown",
   "metadata": {},
   "source": [
    "Encode Vec(64bits) to uint64(2,20,20,22)  \n",
    "Decode uint64(2,20,20,22) to Vec(64bits)"
   ]
  },
  {
   "cell_type": "code",
   "execution_count": 85,
   "metadata": {},
   "outputs": [
    {
     "name": "stdout",
     "output_type": "stream",
     "text": [
      "is valid? True (2, 20, 20, 22)\n"
     ]
    }
   ],
   "source": [
    "dtypes = (np.float64, np.uint64)\n",
    "nbits = 20\n",
    "\n",
    "print('is valid?',\n",
    "      fpq_vec.is_valid_format(dtypes[0], dtypes[1], nbits),\n",
    "      fpq_vec.calc_breakdown_of_uint(dtypes[1], nbits))\n",
    "\n",
    "v = np.array([vec_random(norm=100.) for _ in range(10)], dtype=dtypes[0])"
   ]
  },
  {
   "cell_type": "code",
   "execution_count": 86,
   "metadata": {},
   "outputs": [
    {
     "name": "stdout",
     "output_type": "stream",
     "text": [
      "after encoding: 80 / 240 bytes (0.3333333333333333)\n",
      "src[-26.41721724 -12.86862312 -75.9824132 ] dst[-26.41540882 -12.86766687 -75.97719174] ... src == dst? True\n",
      "src[ -1.10526573  12.65959033 -19.43809986] dst[ -1.10521855  12.65916408 -19.43748492] ... src == dst? True\n",
      "src[ 1.49514897 -3.35439872  1.15176055] dst[ 1.49513821 -3.35438152  1.15175525] ... src == dst? True\n",
      "src[-51.90290405  54.05753661   7.78558142] dst[-51.90268343  54.05717811   7.78547437] ... src == dst? True\n",
      "src[31.02397497 37.35906816  5.73656298] dst[31.02371746 37.35877663  5.73654543] ... src == dst? True\n",
      "src[-47.59904126  -4.52725404 -62.5817453 ] dst[-47.59483832  -4.52684789 -62.57636545] ... src == dst? True\n",
      "src[36.19225752 36.47563315 47.28503504] dst[36.19125763 36.47467921 47.28379943] ... src == dst? True\n",
      "src[-62.70146461  54.87025546   7.45870026] dst[-62.6979625   54.86710927   7.45834535] ... src == dst? True\n",
      "src[ 52.54715866 -20.27208232  49.5023667 ] dst[ 52.54176418 -20.27005804  49.49719878] ... src == dst? True\n",
      "src[ -3.13308038 -10.22977063 -14.85991243] dst[ -3.13305661 -10.22967831 -14.85980366] ... src == dst? True\n"
     ]
    }
   ],
   "source": [
    "enc = fpq_vec.encode_vec_to_uint(v, dtype=dtypes[1], nbits=nbits)\n",
    "dec = fpq_vec.decode_uint_to_vec(enc, dtype=dtypes[0], nbits=nbits)\n",
    "\n",
    "print('after encoding: {} / {} bytes ({})'.format(enc.nbytes, v.nbytes, enc.nbytes / v.nbytes))\n",
    "for src, dst in zip(v.reshape(-1, 3), dec.reshape(-1, 3)):\n",
    "    print('src{} dst{} ... src == dst? {}'.format(src, dst, np.allclose(src, dst, rtol=1e-03, atol=1e-04)))"
   ]
  },
  {
   "cell_type": "code",
   "execution_count": 87,
   "metadata": {},
   "outputs": [
    {
     "name": "stdout",
     "output_type": "stream",
     "text": [
      "after encoding: 80 / 240 bytes (0.3333333333333333)\n",
      "src[-26.41721724 -12.86862312 -75.9824132 ] dst[-26.41540882 -12.86766687 -75.97719174] ... src == dst? True\n",
      "src[ -1.10526573  12.65959033 -19.43809986] dst[ -1.10521855  12.65916408 -19.43748492] ... src == dst? True\n",
      "src[ 1.49514897 -3.35439872  1.15176055] dst[ 1.49513821 -3.35438152  1.15175525] ... src == dst? True\n",
      "src[-51.90290405  54.05753661   7.78558142] dst[-51.90268343  54.05717811   7.78547437] ... src == dst? True\n",
      "src[31.02397497 37.35906816  5.73656298] dst[31.02371746 37.35877663  5.73654543] ... src == dst? True\n",
      "src[-47.59904126  -4.52725404 -62.5817453 ] dst[-47.59483832  -4.52684789 -62.57636545] ... src == dst? True\n",
      "src[36.19225752 36.47563315 47.28503504] dst[36.19125763 36.47467921 47.28379943] ... src == dst? True\n",
      "src[-62.70146461  54.87025546   7.45870026] dst[-62.6979625   54.86710927   7.45834535] ... src == dst? True\n",
      "src[ 52.54715866 -20.27208232  49.5023667 ] dst[ 52.54176418 -20.27005804  49.49719878] ... src == dst? True\n",
      "src[ -3.13308038 -10.22977063 -14.85991243] dst[ -3.13305661 -10.22967831 -14.85980366] ... src == dst? True\n"
     ]
    }
   ],
   "source": [
    "enc = fpq_vec.encode_vec_to_uint(v, dtype=dtypes[1], nbits=nbits, encoder=fpq_d3d.encode_fp_to_snorm)\n",
    "dec = fpq_vec.decode_uint_to_vec(enc, dtype=dtypes[0], nbits=nbits, decoder=fpq_d3d.decode_snorm_to_fp)\n",
    "\n",
    "print('after encoding: {} / {} bytes ({})'.format(enc.nbytes, v.nbytes, enc.nbytes / v.nbytes))\n",
    "for src, dst in zip(v.reshape(-1, 3), dec.reshape(-1, 3)):\n",
    "    print('src{} dst{} ... src == dst? {}'.format(src, dst, np.allclose(src, dst, rtol=1e-03, atol=1e-04)))"
   ]
  },
  {
   "cell_type": "markdown",
   "metadata": {},
   "source": [
    "Encode Vec(32bits) to uint32(2,10,10,10)  \n",
    "Decode uint32(2,10,10,10) to Vec(32bits)"
   ]
  },
  {
   "cell_type": "code",
   "execution_count": 88,
   "metadata": {},
   "outputs": [
    {
     "name": "stdout",
     "output_type": "stream",
     "text": [
      "is valid? True (2, 10, 10, 10)\n"
     ]
    }
   ],
   "source": [
    "dtypes = (np.float32, np.uint32)\n",
    "nbits = 10\n",
    "\n",
    "print('is valid?',\n",
    "      fpq_vec.is_valid_format(dtypes[0], dtypes[1], nbits),\n",
    "      fpq_vec.calc_breakdown_of_uint(dtypes[1], nbits))\n",
    "\n",
    "v = np.array([vec_random(norm=100.) for _ in range(10)], dtype=dtypes[0])"
   ]
  },
  {
   "cell_type": "code",
   "execution_count": 89,
   "metadata": {},
   "outputs": [
    {
     "name": "stdout",
     "output_type": "stream",
     "text": [
      "after encoding: 40 / 120 bytes (0.3333333333333333)\n",
      "src[-14.333556  -8.905931 -25.222313] dst[-14.148727  -8.806263 -24.945204] ... src == dst? True\n",
      "src[ 0.7426675  9.557143  -9.131002 ] dst[ 0.73776907  9.394884   -8.95499   ] ... src == dst? True\n",
      "src[ 19.186733 -43.46914   15.252286] dst[ 18.41096 -41.83668  14.65362] ... src == dst? True\n",
      "src[ -4.4984565 -56.83399    37.994095 ] dst[ -4.5244617 -56.438393   37.65949  ] ... src == dst? True\n",
      "src[ 38.714565 -31.128101  24.530087] dst[ 37.75961  -30.328768  23.882584] ... src == dst? True\n",
      "src[-40.14593  -35.179962 -35.86687 ] dst[-39.900974 -35.068493 -35.694717] ... src == dst? True\n",
      "src[-6.619594  11.530225  -3.0778332] dst[-6.551859  11.40582   -3.0381606] ... src == dst? True\n",
      "src[20.964828   5.6689467  3.1154494] dst[20.064224   5.4246573  3.0000002] ... src == dst? True\n",
      "src[ 16.089077   8.605717 -27.442518] dst[ 15.592955   8.328767 -26.673796] ... src == dst? True\n",
      "src[ 6.12246   26.035273   1.8146845] dst[ 5.9530334 25.246586   1.7808219] ... src == dst? True\n"
     ]
    }
   ],
   "source": [
    "enc = fpq_vec.encode_vec_to_uint(v, dtype=dtypes[1], nbits=nbits)\n",
    "dec = fpq_vec.decode_uint_to_vec(enc, dtype=dtypes[0], nbits=nbits)\n",
    "\n",
    "print('after encoding: {} / {} bytes ({})'.format(enc.nbytes, v.nbytes, enc.nbytes / v.nbytes))\n",
    "for src, dst in zip(v.reshape(-1, 3), dec.reshape(-1, 3)):\n",
    "    print('src{} dst{} ... src == dst? {}'.format(src, dst, np.allclose(src, dst, rtol=1e-01, atol=1e-02)))"
   ]
  },
  {
   "cell_type": "code",
   "execution_count": 90,
   "metadata": {},
   "outputs": [
    {
     "name": "stdout",
     "output_type": "stream",
     "text": [
      "after encoding: 40 / 120 bytes (0.3333333333333333)\n",
      "src[-14.333556  -8.905931 -25.222313] dst[-14.148727  -8.806263 -24.945204] ... src == dst? True\n",
      "src[ 0.7426675  9.557143  -9.131002 ] dst[ 0.73776907  9.394884   -8.95499   ] ... src == dst? True\n",
      "src[ 19.186733 -43.46914   15.252286] dst[ 18.41096 -41.83668  14.65362] ... src == dst? True\n",
      "src[ -4.4984565 -56.83399    37.994095 ] dst[ -4.5244617 -56.438393   37.65949  ] ... src == dst? True\n",
      "src[ 38.714565 -31.128101  24.530087] dst[ 37.75961  -30.328768  23.882584] ... src == dst? True\n",
      "src[-40.14593  -35.179962 -35.86687 ] dst[-39.900974 -35.068493 -35.694717] ... src == dst? True\n",
      "src[-6.619594  11.530225  -3.0778332] dst[-6.551859  11.40582   -3.0381606] ... src == dst? True\n",
      "src[20.964828   5.6689467  3.1154494] dst[20.064224   5.4246573  3.0000002] ... src == dst? True\n",
      "src[ 16.089077   8.605717 -27.442518] dst[ 15.592955   8.328767 -26.673796] ... src == dst? True\n",
      "src[ 6.12246   26.035273   1.8146845] dst[ 5.9530334 25.246586   1.7808219] ... src == dst? True\n"
     ]
    }
   ],
   "source": [
    "enc = fpq_vec.encode_vec_to_uint(v, dtype=dtypes[1], nbits=nbits, encoder=fpq_d3d.encode_fp_to_snorm)\n",
    "dec = fpq_vec.decode_uint_to_vec(enc, dtype=dtypes[0], nbits=nbits, decoder=fpq_d3d.decode_snorm_to_fp)\n",
    "\n",
    "print('after encoding: {} / {} bytes ({})'.format(enc.nbytes, v.nbytes, enc.nbytes / v.nbytes))\n",
    "for src, dst in zip(v.reshape(-1, 3), dec.reshape(-1, 3)):\n",
    "    print('src{} dst{} ... src == dst? {}'.format(src, dst, np.allclose(src, dst, rtol=1e-01, atol=1e-02)))"
   ]
  },
  {
   "cell_type": "markdown",
   "metadata": {},
   "source": [
    "Encode Vec(32bits) to uint64(2,20,20,22)  \n",
    "Decode uint64(2,20,20,22) to Vec(32bits)"
   ]
  },
  {
   "cell_type": "code",
   "execution_count": 91,
   "metadata": {},
   "outputs": [
    {
     "name": "stdout",
     "output_type": "stream",
     "text": [
      "is valid? True (2, 20, 20, 22)\n"
     ]
    }
   ],
   "source": [
    "dtypes = (np.float32, np.uint64)\n",
    "nbits = 20\n",
    "\n",
    "print('is valid?',\n",
    "      fpq_vec.is_valid_format(dtypes[0], dtypes[1], nbits),\n",
    "      fpq_vec.calc_breakdown_of_uint(dtypes[1], nbits))\n",
    "\n",
    "v = np.array([vec_random(norm=100.) for _ in range(10)], dtype=dtypes[0])"
   ]
  },
  {
   "cell_type": "code",
   "execution_count": 92,
   "metadata": {},
   "outputs": [
    {
     "name": "stdout",
     "output_type": "stream",
     "text": [
      "after encoding: 80 / 120 bytes (0.6666666666666666)\n",
      "src[-28.974098 -12.92661    5.043481] dst[-28.973875  -12.926482    5.0434375] ... src == dst? True\n",
      "src[ 58.467785  35.049923 -60.02784 ] dst[ 58.465797  35.048782 -60.025677] ... src == dst? True\n",
      "src[-34.871925   48.251484   -6.7151175] dst[-34.871365  48.250637  -6.714949] ... src == dst? True\n",
      "src[  7.713536 -19.895508 -14.757175] dst[  7.713281  -19.894827  -14.7566595] ... src == dst? True\n",
      "src[-28.775826 -40.765965  49.1865  ] dst[-28.774445 -40.764076  49.184097] ... src == dst? True\n",
      "src[ 17.220863  37.160267 -47.52497 ] dst[ 17.219894  37.158028 -47.522182] ... src == dst? True\n",
      "src[ -4.6627364 -19.670507   -0.9600773] dst[ -4.6627173 -19.67042    -0.9600587] ... src == dst? True\n",
      "src[-51.018116   -3.2719162  26.7863   ] dst[-51.017696   -3.2718732  26.786055 ] ... src == dst? True\n",
      "src[-16.37309  -26.945114 -37.950718] dst[-16.371977 -26.94319  -37.948093] ... src == dst? True\n",
      "src[67.61644  33.186398 -9.87196 ] dst[67.61229 33.18429 -9.8714 ] ... src == dst? True\n"
     ]
    }
   ],
   "source": [
    "enc = fpq_vec.encode_vec_to_uint(v, dtype=dtypes[1], nbits=nbits)\n",
    "dec = fpq_vec.decode_uint_to_vec(enc, dtype=dtypes[0], nbits=nbits)\n",
    "\n",
    "print('after encoding: {} / {} bytes ({})'.format(enc.nbytes, v.nbytes, enc.nbytes / v.nbytes))\n",
    "for src, dst in zip(v.reshape(-1, 3), dec.reshape(-1, 3)):\n",
    "    print('src{} dst{} ... src == dst? {}'.format(src, dst, np.allclose(src, dst, rtol=1e-03, atol=1e-04)))"
   ]
  },
  {
   "cell_type": "code",
   "execution_count": 93,
   "metadata": {},
   "outputs": [
    {
     "name": "stdout",
     "output_type": "stream",
     "text": [
      "after encoding: 80 / 120 bytes (0.6666666666666666)\n",
      "src[-28.974098 -12.92661    5.043481] dst[-28.973875  -12.926482    5.0434375] ... src == dst? True\n",
      "src[ 58.467785  35.049923 -60.02784 ] dst[ 58.465797  35.048782 -60.025677] ... src == dst? True\n",
      "src[-34.871925   48.251484   -6.7151175] dst[-34.871365  48.250637  -6.714949] ... src == dst? True\n",
      "src[  7.713536 -19.895508 -14.757175] dst[  7.713281  -19.894827  -14.7566595] ... src == dst? True\n",
      "src[-28.775826 -40.765965  49.1865  ] dst[-28.774445 -40.764076  49.184097] ... src == dst? True\n",
      "src[ 17.220863  37.160267 -47.52497 ] dst[ 17.219894  37.158028 -47.522182] ... src == dst? True\n",
      "src[ -4.6627364 -19.670507   -0.9600773] dst[ -4.6627173 -19.67042    -0.9600587] ... src == dst? True\n",
      "src[-51.018116   -3.2719162  26.7863   ] dst[-51.017696   -3.2718732  26.786055 ] ... src == dst? True\n",
      "src[-16.37309  -26.945114 -37.950718] dst[-16.371977 -26.94319  -37.948093] ... src == dst? True\n",
      "src[67.61644  33.186398 -9.87196 ] dst[67.61229 33.18429 -9.8714 ] ... src == dst? True\n"
     ]
    }
   ],
   "source": [
    "enc = fpq_vec.encode_vec_to_uint(v, dtype=dtypes[1], nbits=nbits, encoder=fpq_d3d.encode_fp_to_snorm)\n",
    "dec = fpq_vec.decode_uint_to_vec(enc, dtype=dtypes[0], nbits=nbits, decoder=fpq_d3d.decode_snorm_to_fp)\n",
    "\n",
    "print('after encoding: {} / {} bytes ({})'.format(enc.nbytes, v.nbytes, enc.nbytes / v.nbytes))\n",
    "for src, dst in zip(v.reshape(-1, 3), dec.reshape(-1, 3)):\n",
    "    print('src{} dst{} ... src == dst? {}'.format(src, dst, np.allclose(src, dst, rtol=1e-03, atol=1e-04)))"
   ]
  }
 ],
 "metadata": {
  "kernelspec": {
   "display_name": "Python 3",
   "language": "python",
   "name": "python3"
  },
  "language_info": {
   "codemirror_mode": {
    "name": "ipython",
    "version": 3
   },
   "file_extension": ".py",
   "mimetype": "text/x-python",
   "name": "python",
   "nbconvert_exporter": "python",
   "pygments_lexer": "ipython3",
   "version": "3.6.4"
  }
 },
 "nbformat": 4,
 "nbformat_minor": 2
}
