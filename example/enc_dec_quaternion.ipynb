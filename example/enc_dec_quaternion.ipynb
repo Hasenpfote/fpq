{
 "cells": [
  {
   "cell_type": "code",
   "execution_count": 1,
   "metadata": {},
   "outputs": [],
   "source": [
    "import math\n",
    "import random\n",
    "import numpy as np\n",
    "import fpq.quaternion as fpq_quat\n",
    "import fpq.d3d as fpq_d3d"
   ]
  },
  {
   "cell_type": "code",
   "execution_count": 2,
   "metadata": {},
   "outputs": [],
   "source": [
    "def quat_random():\n",
    "    '''See also: http://planning.cs.uiuc.edu/node198.html'''\n",
    "    u1 = random.random()\n",
    "    r1 = math.sqrt(1. - u1)\n",
    "    r2 = math.sqrt(u1)\n",
    "    t1 = 2. * math.pi * random.random() # u1\n",
    "    t2 = 2. * math.pi * random.random() # u2\n",
    "    return np.array([r2 * math.cos(t2), # w\n",
    "                     r1 * math.sin(t1), # x\n",
    "                     r1 * math.cos(t1), # y\n",
    "                     r2 * math.sin(t2)])# z\n",
    "\n",
    "def quat_are_same_rotation(q1, q2, *, atol=1e-08):\n",
    "    return np.isclose(1., abs(np.dot(q1, q2)), rtol=0., atol=atol)"
   ]
  },
  {
   "cell_type": "markdown",
   "metadata": {},
   "source": [
    "Encode Quat(64bits) to uint64  \n",
    "Decode uint64 to Quat(64bits)"
   ]
  },
  {
   "cell_type": "code",
   "execution_count": 3,
   "metadata": {},
   "outputs": [],
   "source": [
    "dtypes = (np.float64, np.uint64)\n",
    "q = np.array([quat_random() for _ in range(10)], dtype=dtypes[0])"
   ]
  },
  {
   "cell_type": "code",
   "execution_count": 4,
   "metadata": {
    "scrolled": true
   },
   "outputs": [
    {
     "name": "stdout",
     "output_type": "stream",
     "text": [
      "after encoding: 80 / 320 bytes (0.25)\n",
      "src[-0.51081975  0.56309271  0.11406528  0.63951458] dst[-0.51081943  0.56309241  0.1140651   0.63951513] ... src == dst? True\n",
      "src[ 0.63468387  0.53260218 -0.22946457 -0.51074193] dst[ 0.63468344  0.53260231 -0.22946407 -0.51074255] ... src == dst? True\n",
      "src[-0.99568776 -0.07315594  0.04101731  0.03964445] dst[ 0.99568773  0.07315628 -0.04101672 -0.03964509] ... src == dst? True\n",
      "src[ 0.11878061 -0.40821499 -0.83488337 -0.34960184] dst[-0.11878016  0.4082156   0.83488292  0.34960237] ... src == dst? True\n",
      "src[-0.84544255  0.48470875 -0.17751877 -0.13700878] dst[ 0.84544258 -0.48470856  0.17751882  0.13700921] ... src == dst? True\n",
      "src[ 0.28248659 -0.63367837  0.50553    -0.51292541] dst[-0.28248692  0.63367889 -0.50552982  0.51292475] ... src == dst? True\n",
      "src[ 0.61225567  0.42402004 -0.14872014 -0.65056308] dst[-0.61225529 -0.42401968  0.14871999  0.65056371] ... src == dst? True\n",
      "src[ 0.34749302 -0.21058769 -0.51643566 -0.75378753] dst[-0.347493    0.21058764  0.51643542  0.75378771] ... src == dst? True\n",
      "src[ 0.45150729 -0.1632405   0.83373584  0.27272376] dst[ 0.45150757 -0.16324011  0.83373579  0.27272367] ... src == dst? True\n",
      "src[-0.55807431  0.43351599  0.62722458 -0.32742369] dst[-0.55807389  0.43351589  0.6272247  -0.32742432] ... src == dst? True\n"
     ]
    }
   ],
   "source": [
    "enc = fpq_quat.encode_quat_to_uint(q, dtype=dtypes[1])\n",
    "dec = fpq_quat.decode_uint_to_quat(enc, dtype=dtypes[0])\n",
    "\n",
    "print('after encoding: {} / {} bytes ({})'.format(enc.nbytes, q.nbytes, enc.nbytes / q.nbytes))\n",
    "for src, dst in zip(q, dec):\n",
    "    print('src{} dst{} ... src == dst? {}'.format(src, dst, quat_are_same_rotation(src, dst, atol=1e-07)))"
   ]
  },
  {
   "cell_type": "code",
   "execution_count": 5,
   "metadata": {},
   "outputs": [
    {
     "name": "stdout",
     "output_type": "stream",
     "text": [
      "after encoding: 80 / 320 bytes (0.25)\n",
      "src[-0.51081975  0.56309271  0.11406528  0.63951458] dst[-0.51081943  0.56309241  0.1140651   0.63951513] ... src == dst? True\n",
      "src[ 0.63468387  0.53260218 -0.22946457 -0.51074193] dst[ 0.63468344  0.53260231 -0.22946407 -0.51074255] ... src == dst? True\n",
      "src[-0.99568776 -0.07315594  0.04101731  0.03964445] dst[ 0.99568773  0.07315628 -0.04101672 -0.03964509] ... src == dst? True\n",
      "src[ 0.11878061 -0.40821499 -0.83488337 -0.34960184] dst[-0.11878016  0.4082156   0.83488292  0.34960237] ... src == dst? True\n",
      "src[-0.84544255  0.48470875 -0.17751877 -0.13700878] dst[ 0.84544258 -0.48470856  0.17751882  0.13700921] ... src == dst? True\n",
      "src[ 0.28248659 -0.63367837  0.50553    -0.51292541] dst[-0.28248692  0.63367889 -0.50552982  0.51292475] ... src == dst? True\n",
      "src[ 0.61225567  0.42402004 -0.14872014 -0.65056308] dst[-0.61225529 -0.42401968  0.14871999  0.65056371] ... src == dst? True\n",
      "src[ 0.34749302 -0.21058769 -0.51643566 -0.75378753] dst[-0.347493    0.21058764  0.51643542  0.75378771] ... src == dst? True\n",
      "src[ 0.45150729 -0.1632405   0.83373584  0.27272376] dst[ 0.45150757 -0.16324011  0.83373579  0.27272367] ... src == dst? True\n",
      "src[-0.55807431  0.43351599  0.62722458 -0.32742369] dst[-0.55807389  0.43351589  0.6272247  -0.32742432] ... src == dst? True\n"
     ]
    }
   ],
   "source": [
    "enc = fpq_quat.encode_quat_to_uint(q, dtype=dtypes[1], encoder=fpq_d3d.encode_fp_to_snorm)\n",
    "dec = fpq_quat.decode_uint_to_quat(enc, dtype=dtypes[0], decoder=fpq_d3d.decode_snorm_to_fp)\n",
    "\n",
    "print('after encoding: {} / {} bytes ({})'.format(enc.nbytes, q.nbytes, enc.nbytes / q.nbytes))\n",
    "for src, dst in zip(q, dec):\n",
    "    print('src{} dst{} ... src == dst? {}'.format(src, dst, quat_are_same_rotation(src, dst, atol=1e-07)))"
   ]
  },
  {
   "cell_type": "markdown",
   "metadata": {},
   "source": [
    "Encode Quat(32bits) to uint32  \n",
    "Decode uint32 to Quat(32bits)"
   ]
  },
  {
   "cell_type": "code",
   "execution_count": 6,
   "metadata": {},
   "outputs": [],
   "source": [
    "dtypes = (np.float32, np.uint32)\n",
    "q = np.array([quat_random() for _ in range(10)], dtype=dtypes[0])"
   ]
  },
  {
   "cell_type": "code",
   "execution_count": 7,
   "metadata": {
    "scrolled": true
   },
   "outputs": [
    {
     "name": "stdout",
     "output_type": "stream",
     "text": [
      "after encoding: 40 / 160 bytes (0.25)\n",
      "src[-0.19139843  0.77967095  0.2787423   0.5270508 ] dst[-0.19096035  0.7798821   0.27813786  0.5272166 ] ... src == dst? True\n",
      "src[ 0.4372724   0.53903145 -0.18545172  0.69559014] dst[ 0.43727154  0.5396705  -0.18542528  0.69510204] ... src == dst? True\n",
      "src[-0.77193034 -0.15157007  0.1868381   0.58842295] dst[ 0.77205473  0.15221477 -0.186809   -0.58810246] ... src == dst? True\n",
      "src[-0.23335057 -0.34256765 -0.32815036  0.8488299 ] dst[-0.23385721 -0.3431751  -0.32795364  0.8485211 ] ... src == dst? True\n",
      "src[ 0.49165097 -0.62506336 -0.04799774 -0.6043768 ] dst[-0.49123853  0.62503403  0.04843193  0.6047078 ] ... src == dst? True\n",
      "src[ 0.6011271  -0.3210939   0.14720808 -0.7168506 ] dst[-0.60055643  0.32103473 -0.1466797   0.7174634 ] ... src == dst? True\n",
      "src[-0.4862638   0.21629938 -0.77206314  0.3473911 ] dst[ 0.48570353 -0.21586823  0.7725654  -0.34732643] ... src == dst? True\n",
      "src[ 0.7878998  -0.38918555  0.39864576  0.26235494] dst[ 0.7879441  -0.3888395   0.3985259   0.26291645] ... src == dst? True\n",
      "src[ 0.88819116  0.05080301 -0.04275202  0.45465133] dst[ 0.8878493   0.0511995  -0.04289687  0.45526046] ... src == dst? True\n",
      "src[ 0.13455944 -0.20216784 -0.644303   -0.7251865 ] dst[-0.13422573  0.20203048  0.6448371   0.724812  ] ... src == dst? True\n"
     ]
    }
   ],
   "source": [
    "enc = fpq_quat.encode_quat_to_uint(q, dtype=dtypes[1])\n",
    "dec = fpq_quat.decode_uint_to_quat(enc, dtype=dtypes[0])\n",
    "\n",
    "print('after encoding: {} / {} bytes ({})'.format(enc.nbytes, q.nbytes, enc.nbytes / q.nbytes))\n",
    "for src, dst in zip(q, dec):\n",
    "    print('src{} dst{} ... src == dst? {}'.format(src, dst, quat_are_same_rotation(src, dst, atol=1e-06)))"
   ]
  },
  {
   "cell_type": "code",
   "execution_count": 8,
   "metadata": {},
   "outputs": [
    {
     "name": "stdout",
     "output_type": "stream",
     "text": [
      "after encoding: 40 / 160 bytes (0.25)\n",
      "src[-0.19139843  0.77967095  0.2787423   0.5270508 ] dst[-0.19096035  0.7798821   0.27813786  0.5272166 ] ... src == dst? True\n",
      "src[ 0.4372724   0.53903145 -0.18545172  0.69559014] dst[ 0.43727154  0.5396705  -0.18542528  0.69510204] ... src == dst? True\n",
      "src[-0.77193034 -0.15157007  0.1868381   0.58842295] dst[ 0.77205473  0.15221477 -0.186809   -0.58810246] ... src == dst? True\n",
      "src[-0.23335057 -0.34256765 -0.32815036  0.8488299 ] dst[-0.23385721 -0.3431751  -0.32795364  0.8485211 ] ... src == dst? True\n",
      "src[ 0.49165097 -0.62506336 -0.04799774 -0.6043768 ] dst[-0.49123853  0.62503403  0.04843193  0.6047078 ] ... src == dst? True\n",
      "src[ 0.6011271  -0.3210939   0.14720808 -0.7168506 ] dst[-0.60055643  0.32103473 -0.1466797   0.7174634 ] ... src == dst? True\n",
      "src[-0.4862638   0.21629938 -0.77206314  0.3473911 ] dst[ 0.48570353 -0.21586823  0.7725654  -0.34732643] ... src == dst? True\n",
      "src[ 0.7878998  -0.38918555  0.39864576  0.26235494] dst[ 0.7879441  -0.3888395   0.3985259   0.26291645] ... src == dst? True\n",
      "src[ 0.88819116  0.05080301 -0.04275202  0.45465133] dst[ 0.8878493   0.0511995  -0.04289687  0.45526046] ... src == dst? True\n",
      "src[ 0.13455944 -0.20216784 -0.644303   -0.7251865 ] dst[-0.13422573  0.20203048  0.6448371   0.724812  ] ... src == dst? True\n"
     ]
    }
   ],
   "source": [
    "enc = fpq_quat.encode_quat_to_uint(q, dtype=dtypes[1], encoder=fpq_d3d.encode_fp_to_snorm)\n",
    "dec = fpq_quat.decode_uint_to_quat(enc, dtype=dtypes[0], decoder=fpq_d3d.decode_snorm_to_fp)\n",
    "\n",
    "print('after encoding: {} / {} bytes ({})'.format(enc.nbytes, q.nbytes, enc.nbytes / q.nbytes))\n",
    "for src, dst in zip(q, dec):\n",
    "    print('src{} dst{} ... src == dst? {}'.format(src, dst, quat_are_same_rotation(src, dst, atol=1e-06)))"
   ]
  },
  {
   "cell_type": "markdown",
   "metadata": {},
   "source": [
    "Encode Quat(32bits) to uint64  \n",
    "Decode uint64 to Quat(32bits)"
   ]
  },
  {
   "cell_type": "code",
   "execution_count": 9,
   "metadata": {},
   "outputs": [],
   "source": [
    "dtypes = (np.float32, np.uint64)\n",
    "q = np.array([quat_random() for _ in range(10)], dtype=dtypes[0])"
   ]
  },
  {
   "cell_type": "code",
   "execution_count": 10,
   "metadata": {},
   "outputs": [
    {
     "name": "stdout",
     "output_type": "stream",
     "text": [
      "after encoding: 80 / 160 bytes (0.5)\n",
      "src[ 0.06951527 -0.11016068  0.8644625  -0.48552737] dst[ 0.06951481 -0.11016059  0.8644627  -0.48552722] ... src == dst? True\n",
      "src[-0.31505352 -0.7511653   0.00652966 -0.58004254] dst[ 0.315054    0.7511648  -0.00652903  0.5800429 ] ... src == dst? True\n",
      "src[ 0.30787843  0.16857395  0.02870087 -0.93593264] dst[-0.30787894 -0.16857421 -0.02870035  0.93593246] ... src == dst? True\n",
      "src[-0.28353056 -0.56361413  0.40767023  0.66011703] dst[-0.28353083 -0.56361437  0.40767068  0.66011643] ... src == dst? True\n",
      "src[ 0.6359642  -0.5229769  -0.55502385  0.11829316] dst[ 0.63596386 -0.52297664 -0.55502445  0.11829329] ... src == dst? True\n",
      "src[ 0.18687205  0.9710557   0.09829257 -0.1116615 ] dst[ 0.18687207  0.9710557   0.09829199 -0.11166173] ... src == dst? True\n",
      "src[ 0.5665859   0.8230285   0.00612752 -0.03958466] dst[ 0.5665856   0.82302874  0.00612712 -0.0395844 ] ... src == dst? True\n",
      "src[-0.17380053 -0.5958315   0.7385165  -0.2633849 ] dst[-0.17380047 -0.5958321   0.73851585 -0.26338527] ... src == dst? True\n",
      "src[ 0.36447474 -0.24284287 -0.07854483  0.8955536 ] dst[ 0.36447448 -0.24284318 -0.07854438  0.89555365] ... src == dst? True\n",
      "src[-0.42397392  0.65291345  0.48328707 -0.4004794 ] dst[-0.4239738   0.6529136   0.48328704 -0.40047944] ... src == dst? True\n"
     ]
    }
   ],
   "source": [
    "enc = fpq_quat.encode_quat_to_uint(q, dtype=dtypes[1])\n",
    "dec = fpq_quat.decode_uint_to_quat(enc, dtype=dtypes[0])\n",
    "\n",
    "print('after encoding: {} / {} bytes ({})'.format(enc.nbytes, q.nbytes, enc.nbytes / q.nbytes))\n",
    "for src, dst in zip(q, dec):\n",
    "    print('src{} dst{} ... src == dst? {}'.format(src, dst, quat_are_same_rotation(src, dst, atol=1e-06)))"
   ]
  },
  {
   "cell_type": "code",
   "execution_count": 11,
   "metadata": {},
   "outputs": [
    {
     "name": "stdout",
     "output_type": "stream",
     "text": [
      "after encoding: 80 / 160 bytes (0.5)\n",
      "src[ 0.06951527 -0.11016068  0.8644625  -0.48552737] dst[ 0.06951481 -0.11016059  0.8644627  -0.48552722] ... src == dst? True\n",
      "src[-0.31505352 -0.7511653   0.00652966 -0.58004254] dst[ 0.315054    0.7511648  -0.00652903  0.5800429 ] ... src == dst? True\n",
      "src[ 0.30787843  0.16857395  0.02870087 -0.93593264] dst[-0.30787894 -0.16857421 -0.02870035  0.93593246] ... src == dst? True\n",
      "src[-0.28353056 -0.56361413  0.40767023  0.66011703] dst[-0.28353083 -0.56361437  0.40767068  0.66011643] ... src == dst? True\n",
      "src[ 0.6359642  -0.5229769  -0.55502385  0.11829316] dst[ 0.63596386 -0.52297664 -0.55502445  0.11829329] ... src == dst? True\n",
      "src[ 0.18687205  0.9710557   0.09829257 -0.1116615 ] dst[ 0.18687207  0.9710557   0.09829199 -0.11166173] ... src == dst? True\n",
      "src[ 0.5665859   0.8230285   0.00612752 -0.03958466] dst[ 0.5665856   0.82302874  0.00612712 -0.0395844 ] ... src == dst? True\n",
      "src[-0.17380053 -0.5958315   0.7385165  -0.2633849 ] dst[-0.17380047 -0.5958321   0.73851585 -0.26338527] ... src == dst? True\n",
      "src[ 0.36447474 -0.24284287 -0.07854483  0.8955536 ] dst[ 0.36447448 -0.24284318 -0.07854438  0.89555365] ... src == dst? True\n",
      "src[-0.42397392  0.65291345  0.48328707 -0.4004794 ] dst[-0.4239738   0.6529136   0.48328704 -0.40047944] ... src == dst? True\n"
     ]
    }
   ],
   "source": [
    "enc = fpq_quat.encode_quat_to_uint(q, dtype=dtypes[1], encoder=fpq_d3d.encode_fp_to_snorm)\n",
    "dec = fpq_quat.decode_uint_to_quat(enc, dtype=dtypes[0], decoder=fpq_d3d.decode_snorm_to_fp)\n",
    "\n",
    "print('after encoding: {} / {} bytes ({})'.format(enc.nbytes, q.nbytes, enc.nbytes / q.nbytes))\n",
    "for src, dst in zip(q, dec):\n",
    "    print('src{} dst{} ... src == dst? {}'.format(src, dst, quat_are_same_rotation(src, dst, atol=1e-06)))"
   ]
  }
 ],
 "metadata": {
  "kernelspec": {
   "display_name": "Python 3",
   "language": "python",
   "name": "python3"
  },
  "language_info": {
   "codemirror_mode": {
    "name": "ipython",
    "version": 3
   },
   "file_extension": ".py",
   "mimetype": "text/x-python",
   "name": "python",
   "nbconvert_exporter": "python",
   "pygments_lexer": "ipython3",
   "version": "3.6.4"
  }
 },
 "nbformat": 4,
 "nbformat_minor": 2
}
