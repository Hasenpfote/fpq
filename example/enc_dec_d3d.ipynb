{
 "cells": [
  {
   "cell_type": "code",
   "execution_count": 12,
   "metadata": {},
   "outputs": [],
   "source": [
    "import numpy as np\n",
    "from fpq.d3d import *"
   ]
  },
  {
   "cell_type": "code",
   "execution_count": 13,
   "metadata": {},
   "outputs": [],
   "source": [
    "vhex = np.vectorize(hex)"
   ]
  },
  {
   "cell_type": "markdown",
   "metadata": {},
   "source": [
    "enc/dec fp - unorm"
   ]
  },
  {
   "cell_type": "code",
   "execution_count": 14,
   "metadata": {},
   "outputs": [
    {
     "name": "stdout",
     "output_type": "stream",
     "text": [
      "fp [0.   0.25 1.  ]\n",
      "enc ['0x0' '0x8' '0x1f']\n",
      "dec [0.    0.258 1.   ]\n"
     ]
    }
   ],
   "source": [
    "dtypes = (np.float16, np.uint8)\n",
    "nbits = 5\n",
    "\n",
    "fp = np.array([0., 0.25, 1.], dtype=dtypes[0])\n",
    "enc = encode_fp_to_unorm(fp, dtype=dtypes[1], nbits=nbits)\n",
    "dec = decode_unorm_to_fp(enc, dtype=dtypes[0], nbits=nbits)\n",
    "\n",
    "print('fp', fp)\n",
    "print('enc', vhex(enc))\n",
    "print('dec', dec)"
   ]
  },
  {
   "cell_type": "code",
   "execution_count": 15,
   "metadata": {},
   "outputs": [
    {
     "name": "stdout",
     "output_type": "stream",
     "text": [
      "fp [0.   0.25 1.  ]\n",
      "enc ['0x0' '0x100' '0x3ff']\n",
      "dec [0.         0.25024438 1.        ]\n"
     ]
    }
   ],
   "source": [
    "dtypes = (np.float32, np.uint16)\n",
    "nbits = 10\n",
    "\n",
    "fp = np.array([0., 0.25, 1.], dtype=dtypes[0])\n",
    "enc = encode_fp_to_unorm(fp, dtype=dtypes[1], nbits=nbits)\n",
    "dec = decode_unorm_to_fp(enc, dtype=dtypes[0], nbits=nbits)\n",
    "\n",
    "print('fp', fp)\n",
    "print('enc', vhex(enc))\n",
    "print('dec', dec)"
   ]
  },
  {
   "cell_type": "code",
   "execution_count": 16,
   "metadata": {},
   "outputs": [
    {
     "name": "stdout",
     "output_type": "stream",
     "text": [
      "fp [0.   0.25 1.  ]\n",
      "enc ['0x0' '0x40000' '0xfffff']\n",
      "dec [0.         0.25000024 1.        ]\n"
     ]
    }
   ],
   "source": [
    "dtypes = (np.float64, np.uint32)\n",
    "nbits = 20\n",
    "\n",
    "fp = np.array([0., 0.25, 1.], dtype=dtypes[0])\n",
    "enc = encode_fp_to_unorm(fp, dtype=dtypes[1], nbits=nbits)\n",
    "dec = decode_unorm_to_fp(enc, dtype=dtypes[0], nbits=nbits)\n",
    "\n",
    "print('fp', fp)\n",
    "print('enc', vhex(enc))\n",
    "print('dec', dec)"
   ]
  },
  {
   "cell_type": "code",
   "execution_count": 17,
   "metadata": {},
   "outputs": [
    {
     "name": "stdout",
     "output_type": "stream",
     "text": [
      "fp [0.   0.25 1.  ]\n",
      "enc ['0x0' '0x40000' '0xfffff']\n",
      "dec [0.         0.25000024 1.        ]\n"
     ]
    }
   ],
   "source": [
    "dtypes = (np.float32, np.uint32)\n",
    "nbits = 20\n",
    "\n",
    "fp = np.array([0., 0.25, 1.], dtype=dtypes[0])\n",
    "enc = encode_fp_to_unorm(fp, dtype=dtypes[1], nbits=nbits)\n",
    "dec = decode_unorm_to_fp(enc, dtype=dtypes[0], nbits=nbits)\n",
    "\n",
    "print('fp', fp)\n",
    "print('enc', vhex(enc))\n",
    "print('dec', dec)"
   ]
  },
  {
   "cell_type": "markdown",
   "metadata": {},
   "source": [
    "enc/dec fp - snorm"
   ]
  },
  {
   "cell_type": "code",
   "execution_count": 18,
   "metadata": {},
   "outputs": [
    {
     "name": "stdout",
     "output_type": "stream",
     "text": [
      "fp [-1.   -0.25 -0.    0.    0.25  1.  ]\n",
      "enc ['0x11' '0x1c' '0x0' '0x0' '0x4' '0xf']\n",
      "dec [-1.     -0.2666  0.      0.      0.2666  1.    ]\n"
     ]
    }
   ],
   "source": [
    "dtypes = (np.float16, np.uint8)\n",
    "nbits = 5\n",
    "\n",
    "fp = np.array([-1., -0.25, -0., 0., 0.25, 1.], dtype=dtypes[0])\n",
    "enc = encode_fp_to_snorm(fp, dtype=dtypes[1], nbits=nbits)\n",
    "dec = decode_snorm_to_fp(enc, dtype=dtypes[0], nbits=nbits)\n",
    "\n",
    "print('fp', fp)\n",
    "print('enc', vhex(enc))\n",
    "print('dec', dec)"
   ]
  },
  {
   "cell_type": "code",
   "execution_count": 19,
   "metadata": {},
   "outputs": [
    {
     "name": "stdout",
     "output_type": "stream",
     "text": [
      "fp [-1.   -0.25 -0.    0.    0.25  1.  ]\n",
      "enc ['0x201' '0x380' '0x0' '0x0' '0x80' '0x1ff']\n",
      "dec [-1.         -0.25048923  0.          0.          0.25048923  1.        ]\n"
     ]
    }
   ],
   "source": [
    "dtypes = (np.float32, np.uint16)\n",
    "nbits = 10\n",
    "\n",
    "fp = np.array([-1., -0.25, -0., 0., 0.25, 1.], dtype=dtypes[0])\n",
    "enc = encode_fp_to_snorm(fp, dtype=dtypes[1], nbits=nbits)\n",
    "dec = decode_snorm_to_fp(enc, dtype=dtypes[0], nbits=nbits)\n",
    "\n",
    "print('fp', fp)\n",
    "print('enc', vhex(enc))\n",
    "print('dec', dec)"
   ]
  },
  {
   "cell_type": "code",
   "execution_count": 20,
   "metadata": {},
   "outputs": [
    {
     "name": "stdout",
     "output_type": "stream",
     "text": [
      "fp [-1.   -0.25 -0.    0.    0.25  1.  ]\n",
      "enc ['0x80001' '0xe0000' '0x0' '0x0' '0x20000' '0x7ffff']\n",
      "dec [-1.         -0.25000048  0.          0.          0.25000048  1.        ]\n"
     ]
    }
   ],
   "source": [
    "dtypes = (np.float64, np.uint32)\n",
    "nbits = 20\n",
    "\n",
    "fp = np.array([-1., -0.25, -0., 0., 0.25, 1.], dtype=dtypes[0])\n",
    "enc = encode_fp_to_snorm(fp, dtype=dtypes[1], nbits=nbits)\n",
    "dec = decode_snorm_to_fp(enc, dtype=dtypes[0], nbits=nbits)\n",
    "\n",
    "print('fp', fp)\n",
    "print('enc', vhex(enc))\n",
    "print('dec', dec)"
   ]
  }
 ],
 "metadata": {
  "kernelspec": {
   "display_name": "Python 3",
   "language": "python",
   "name": "python3"
  },
  "language_info": {
   "codemirror_mode": {
    "name": "ipython",
    "version": 3
   },
   "file_extension": ".py",
   "mimetype": "text/x-python",
   "name": "python",
   "nbconvert_exporter": "python",
   "pygments_lexer": "ipython3",
   "version": "3.6.4"
  }
 },
 "nbformat": 4,
 "nbformat_minor": 2
}
